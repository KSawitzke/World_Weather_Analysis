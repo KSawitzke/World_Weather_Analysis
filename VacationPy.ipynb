{
 "cells": [
  {
   "cell_type": "code",
   "execution_count": 2,
   "id": "8ad3e1e6",
   "metadata": {},
   "outputs": [],
   "source": [
    "# Import the dependencies.\n",
    "import pandas as pd\n",
    "import gmaps\n",
    "import requests\n",
    "# Import the API key.\n",
    "from config import g_key"
   ]
  },
  {
   "cell_type": "code",
   "execution_count": 3,
   "id": "3973769a",
   "metadata": {},
   "outputs": [],
   "source": [
    "# Configure gmaps to use your Google API key.\n",
    "gmaps.configure(api_key=g_key)"
   ]
  },
  {
   "cell_type": "code",
   "execution_count": 4,
   "id": "ae0e56fa",
   "metadata": {},
   "outputs": [
    {
     "data": {
      "text/plain": [
       "City_ID         int64\n",
       "City           object\n",
       "Country        object\n",
       "Date           object\n",
       "Lat           float64\n",
       "Lng           float64\n",
       "Max Temp      float64\n",
       "Humidity        int64\n",
       "Cloudiness      int64\n",
       "Wind Speed    float64\n",
       "dtype: object"
      ]
     },
     "execution_count": 4,
     "metadata": {},
     "output_type": "execute_result"
    }
   ],
   "source": [
    "# Store the CSV you saved created in part one into a DataFrame.\n",
    "city_data_df = pd.read_csv(\"weather_data/cities.csv\")\n",
    "city_data_df.dtypes"
   ]
  },
  {
   "cell_type": "code",
   "execution_count": 5,
   "id": "8ba69e3c",
   "metadata": {},
   "outputs": [],
   "source": [
    "# Get the maximum temperature.\n",
    "max_temp = city_data_df[\"Max Temp\"]\n",
    "temps = []\n",
    "for temp in max_temp:\n",
    "    temps.append(max(temp, 0))"
   ]
  },
  {
   "cell_type": "code",
   "execution_count": 12,
   "id": "a0e37d55",
   "metadata": {},
   "outputs": [
    {
     "data": {
      "application/vnd.jupyter.widget-view+json": {
       "model_id": "e2f3ffc8d6d340c8b1c2bfcd81085b5c",
       "version_major": 2,
       "version_minor": 0
      },
      "text/plain": [
       "Figure(layout=FigureLayout(height='420px'))"
      ]
     },
     "metadata": {},
     "output_type": "display_data"
    }
   ],
   "source": [
    "# Heatmap of temperature\n",
    "# Get the latitude and longitude.\n",
    "locations = city_data_df[[\"Lat\", \"Lng\"]]\n",
    "# Get the maximum temperature.\n",
    "max_temp = city_data_df[\"Max Temp\"]\n",
    "# Assign the figure variable.\n",
    "fig = gmaps.figure(center=(30.0, 31.0), zoom_level=1.5)\n",
    "# Assign the heatmap variable.\n",
    "heat_layer = gmaps.heatmap_layer(locations, weights=[max(temp, 0) for temp in max_temp], dissipating = False, max_intensity = 300, point_radius = 4)\n",
    "# Add the heatmap layer.\n",
    "fig.add_layer(heat_layer)\n",
    "# Call the figure to plot the data.\n",
    "fig"
   ]
  },
  {
   "cell_type": "code",
   "execution_count": 13,
   "id": "b9bec36c",
   "metadata": {},
   "outputs": [
    {
     "data": {
      "application/vnd.jupyter.widget-view+json": {
       "model_id": "da939ed1fc024e7c92ea88a380160fae",
       "version_major": 2,
       "version_minor": 0
      },
      "text/plain": [
       "Figure(layout=FigureLayout(height='420px'))"
      ]
     },
     "metadata": {},
     "output_type": "display_data"
    }
   ],
   "source": [
    "# Heatmap of percent humidity\n",
    "locations = city_data_df[[\"Lat\", \"Lng\"]]\n",
    "humidity = city_data_df[\"Humidity\"]\n",
    "fig = gmaps.figure(center=(30.0, 31.0), zoom_level=1.5)\n",
    "heat_layer = gmaps.heatmap_layer(locations, weights=humidity, dissipating=False, max_intensity=300, point_radius=4)\n",
    "\n",
    "fig.add_layer(heat_layer)\n",
    "# Call the figure to plot the data.\n",
    "fig"
   ]
  },
  {
   "cell_type": "code",
   "execution_count": 14,
   "id": "727deb5f",
   "metadata": {},
   "outputs": [
    {
     "data": {
      "application/vnd.jupyter.widget-view+json": {
       "model_id": "953eecbc224947638a5a94c7baa93d1c",
       "version_major": 2,
       "version_minor": 0
      },
      "text/plain": [
       "Figure(layout=FigureLayout(height='420px'))"
      ]
     },
     "metadata": {},
     "output_type": "display_data"
    }
   ],
   "source": [
    "# Heatmap of percent cloudiness\n",
    "locations = city_data_df[[\"Lat\", \"Lng\"]]\n",
    "clouds = city_data_df[\"Cloudiness\"]\n",
    "fig = gmaps.figure(center=(30.0, 31.0), zoom_level=1.5)\n",
    "heat_layer = gmaps.heatmap_layer(locations, weights=clouds, dissipating=False, max_intensity=300, point_radius=4)\n",
    "\n",
    "fig.add_layer(heat_layer)\n",
    "# Call the figure to plot the data.\n",
    "\n",
    "fig"
   ]
  },
  {
   "cell_type": "code",
   "execution_count": 15,
   "id": "dda82cd2",
   "metadata": {},
   "outputs": [
    {
     "data": {
      "application/vnd.jupyter.widget-view+json": {
       "model_id": "e7a3210867be4ab2a148f4250a58a440",
       "version_major": 2,
       "version_minor": 0
      },
      "text/plain": [
       "Figure(layout=FigureLayout(height='420px'))"
      ]
     },
     "metadata": {},
     "output_type": "display_data"
    }
   ],
   "source": [
    "# Heatmap of wind speed\n",
    "locations = city_data_df[[\"Lat\", \"Lng\"]]\n",
    "wind = city_data_df[\"Wind Speed\"]\n",
    "fig = gmaps.figure(center=(30.0, 31.0), zoom_level=1.5)\n",
    "heat_layer = gmaps.heatmap_layer(locations, weights=wind, dissipating=False, max_intensity=300, point_radius=4)\n",
    "\n",
    "fig.add_layer(heat_layer)\n",
    "# Call the figure to plot the data.\n",
    "\n",
    "fig"
   ]
  },
  {
   "cell_type": "code",
   "execution_count": 24,
   "id": "695dbb5b",
   "metadata": {},
   "outputs": [
    {
     "name": "stdout",
     "output_type": "stream",
     "text": [
      "What is the minimum temperature you would like for your trip? 50\n",
      "What is the maximum temperature you would like for your trip? 78\n"
     ]
    }
   ],
   "source": [
    "# Ask the customer to add a minimum and maximum temperature value.\n",
    "min_temp = float(input(\"What is the minimum temperature you would like for your trip? \"))\n",
    "max_temp = float(input(\"What is the maximum temperature you would like for your trip? \"))"
   ]
  },
  {
   "cell_type": "code",
   "execution_count": 29,
   "id": "bd2286b5",
   "metadata": {},
   "outputs": [
    {
     "data": {
      "text/html": [
       "<div>\n",
       "<style scoped>\n",
       "    .dataframe tbody tr th:only-of-type {\n",
       "        vertical-align: middle;\n",
       "    }\n",
       "\n",
       "    .dataframe tbody tr th {\n",
       "        vertical-align: top;\n",
       "    }\n",
       "\n",
       "    .dataframe thead th {\n",
       "        text-align: right;\n",
       "    }\n",
       "</style>\n",
       "<table border=\"1\" class=\"dataframe\">\n",
       "  <thead>\n",
       "    <tr style=\"text-align: right;\">\n",
       "      <th></th>\n",
       "      <th>City_ID</th>\n",
       "      <th>City</th>\n",
       "      <th>Country</th>\n",
       "      <th>Date</th>\n",
       "      <th>Lat</th>\n",
       "      <th>Lng</th>\n",
       "      <th>Max Temp</th>\n",
       "      <th>Humidity</th>\n",
       "      <th>Cloudiness</th>\n",
       "      <th>Wind Speed</th>\n",
       "    </tr>\n",
       "  </thead>\n",
       "  <tbody>\n",
       "    <tr>\n",
       "      <th>1</th>\n",
       "      <td>1</td>\n",
       "      <td>Vaini</td>\n",
       "      <td>TO</td>\n",
       "      <td>2022-04-10 17:56:38</td>\n",
       "      <td>-21.2000</td>\n",
       "      <td>-175.2000</td>\n",
       "      <td>77.16</td>\n",
       "      <td>88</td>\n",
       "      <td>20</td>\n",
       "      <td>8.05</td>\n",
       "    </tr>\n",
       "    <tr>\n",
       "      <th>3</th>\n",
       "      <td>3</td>\n",
       "      <td>Marsh Harbour</td>\n",
       "      <td>BS</td>\n",
       "      <td>2022-04-10 17:56:39</td>\n",
       "      <td>26.5412</td>\n",
       "      <td>-77.0636</td>\n",
       "      <td>69.93</td>\n",
       "      <td>55</td>\n",
       "      <td>4</td>\n",
       "      <td>14.09</td>\n",
       "    </tr>\n",
       "    <tr>\n",
       "      <th>5</th>\n",
       "      <td>5</td>\n",
       "      <td>Banepa</td>\n",
       "      <td>NP</td>\n",
       "      <td>2022-04-10 17:56:39</td>\n",
       "      <td>27.6298</td>\n",
       "      <td>85.5214</td>\n",
       "      <td>64.72</td>\n",
       "      <td>94</td>\n",
       "      <td>75</td>\n",
       "      <td>2.30</td>\n",
       "    </tr>\n",
       "    <tr>\n",
       "      <th>6</th>\n",
       "      <td>6</td>\n",
       "      <td>Saint-Francois</td>\n",
       "      <td>FR</td>\n",
       "      <td>2022-04-10 17:56:40</td>\n",
       "      <td>46.4154</td>\n",
       "      <td>3.9054</td>\n",
       "      <td>53.42</td>\n",
       "      <td>45</td>\n",
       "      <td>0</td>\n",
       "      <td>12.66</td>\n",
       "    </tr>\n",
       "    <tr>\n",
       "      <th>8</th>\n",
       "      <td>8</td>\n",
       "      <td>Mahebourg</td>\n",
       "      <td>MU</td>\n",
       "      <td>2022-04-10 17:56:40</td>\n",
       "      <td>-20.4081</td>\n",
       "      <td>57.7000</td>\n",
       "      <td>77.29</td>\n",
       "      <td>83</td>\n",
       "      <td>75</td>\n",
       "      <td>10.36</td>\n",
       "    </tr>\n",
       "    <tr>\n",
       "      <th>9</th>\n",
       "      <td>9</td>\n",
       "      <td>Kapaa</td>\n",
       "      <td>US</td>\n",
       "      <td>2022-04-10 17:56:40</td>\n",
       "      <td>22.0752</td>\n",
       "      <td>-159.3190</td>\n",
       "      <td>75.18</td>\n",
       "      <td>88</td>\n",
       "      <td>83</td>\n",
       "      <td>7.00</td>\n",
       "    </tr>\n",
       "    <tr>\n",
       "      <th>20</th>\n",
       "      <td>20</td>\n",
       "      <td>Busselton</td>\n",
       "      <td>AU</td>\n",
       "      <td>2022-04-10 17:56:44</td>\n",
       "      <td>-33.6500</td>\n",
       "      <td>115.3333</td>\n",
       "      <td>53.55</td>\n",
       "      <td>83</td>\n",
       "      <td>60</td>\n",
       "      <td>5.17</td>\n",
       "    </tr>\n",
       "    <tr>\n",
       "      <th>25</th>\n",
       "      <td>25</td>\n",
       "      <td>Singleton</td>\n",
       "      <td>AU</td>\n",
       "      <td>2022-04-10 17:56:45</td>\n",
       "      <td>-32.5667</td>\n",
       "      <td>151.1833</td>\n",
       "      <td>58.98</td>\n",
       "      <td>97</td>\n",
       "      <td>5</td>\n",
       "      <td>2.98</td>\n",
       "    </tr>\n",
       "    <tr>\n",
       "      <th>26</th>\n",
       "      <td>26</td>\n",
       "      <td>Port Alfred</td>\n",
       "      <td>ZA</td>\n",
       "      <td>2022-04-10 17:56:45</td>\n",
       "      <td>-33.5906</td>\n",
       "      <td>26.8910</td>\n",
       "      <td>63.18</td>\n",
       "      <td>94</td>\n",
       "      <td>100</td>\n",
       "      <td>5.01</td>\n",
       "    </tr>\n",
       "    <tr>\n",
       "      <th>27</th>\n",
       "      <td>27</td>\n",
       "      <td>Bredasdorp</td>\n",
       "      <td>ZA</td>\n",
       "      <td>2022-04-10 17:56:46</td>\n",
       "      <td>-34.5322</td>\n",
       "      <td>20.0403</td>\n",
       "      <td>65.30</td>\n",
       "      <td>87</td>\n",
       "      <td>0</td>\n",
       "      <td>15.99</td>\n",
       "    </tr>\n",
       "  </tbody>\n",
       "</table>\n",
       "</div>"
      ],
      "text/plain": [
       "    City_ID            City Country                 Date      Lat       Lng  \\\n",
       "1         1           Vaini      TO  2022-04-10 17:56:38 -21.2000 -175.2000   \n",
       "3         3   Marsh Harbour      BS  2022-04-10 17:56:39  26.5412  -77.0636   \n",
       "5         5          Banepa      NP  2022-04-10 17:56:39  27.6298   85.5214   \n",
       "6         6  Saint-Francois      FR  2022-04-10 17:56:40  46.4154    3.9054   \n",
       "8         8       Mahebourg      MU  2022-04-10 17:56:40 -20.4081   57.7000   \n",
       "9         9           Kapaa      US  2022-04-10 17:56:40  22.0752 -159.3190   \n",
       "20       20       Busselton      AU  2022-04-10 17:56:44 -33.6500  115.3333   \n",
       "25       25       Singleton      AU  2022-04-10 17:56:45 -32.5667  151.1833   \n",
       "26       26     Port Alfred      ZA  2022-04-10 17:56:45 -33.5906   26.8910   \n",
       "27       27      Bredasdorp      ZA  2022-04-10 17:56:46 -34.5322   20.0403   \n",
       "\n",
       "    Max Temp  Humidity  Cloudiness  Wind Speed  \n",
       "1      77.16        88          20        8.05  \n",
       "3      69.93        55           4       14.09  \n",
       "5      64.72        94          75        2.30  \n",
       "6      53.42        45           0       12.66  \n",
       "8      77.29        83          75       10.36  \n",
       "9      75.18        88          83        7.00  \n",
       "20     53.55        83          60        5.17  \n",
       "25     58.98        97           5        2.98  \n",
       "26     63.18        94         100        5.01  \n",
       "27     65.30        87           0       15.99  "
      ]
     },
     "execution_count": 29,
     "metadata": {},
     "output_type": "execute_result"
    }
   ],
   "source": [
    "# Filter the dataset to find the cities that fit the criteria.\n",
    "preferred_cities_df = city_data_df.loc[(city_data_df[\"Max Temp\"] <= max_temp) & \\\n",
    "                                       (city_data_df[\"Max Temp\"] >= min_temp)].dropna()\n",
    "preferred_cities_df.head(10)"
   ]
  },
  {
   "cell_type": "code",
   "execution_count": 30,
   "id": "20247123",
   "metadata": {},
   "outputs": [
    {
     "data": {
      "text/plain": [
       "City_ID       217\n",
       "City          217\n",
       "Country       217\n",
       "Date          217\n",
       "Lat           217\n",
       "Lng           217\n",
       "Max Temp      217\n",
       "Humidity      217\n",
       "Cloudiness    217\n",
       "Wind Speed    217\n",
       "dtype: int64"
      ]
     },
     "execution_count": 30,
     "metadata": {},
     "output_type": "execute_result"
    }
   ],
   "source": [
    "preferred_cities_df.count()"
   ]
  },
  {
   "cell_type": "code",
   "execution_count": 31,
   "id": "9cca4747",
   "metadata": {},
   "outputs": [
    {
     "data": {
      "text/html": [
       "<div>\n",
       "<style scoped>\n",
       "    .dataframe tbody tr th:only-of-type {\n",
       "        vertical-align: middle;\n",
       "    }\n",
       "\n",
       "    .dataframe tbody tr th {\n",
       "        vertical-align: top;\n",
       "    }\n",
       "\n",
       "    .dataframe thead th {\n",
       "        text-align: right;\n",
       "    }\n",
       "</style>\n",
       "<table border=\"1\" class=\"dataframe\">\n",
       "  <thead>\n",
       "    <tr style=\"text-align: right;\">\n",
       "      <th></th>\n",
       "      <th>City</th>\n",
       "      <th>Country</th>\n",
       "      <th>Max Temp</th>\n",
       "      <th>Lat</th>\n",
       "      <th>Lng</th>\n",
       "      <th>Hotel Name</th>\n",
       "    </tr>\n",
       "  </thead>\n",
       "  <tbody>\n",
       "    <tr>\n",
       "      <th>1</th>\n",
       "      <td>Vaini</td>\n",
       "      <td>TO</td>\n",
       "      <td>77.16</td>\n",
       "      <td>-21.2000</td>\n",
       "      <td>-175.2000</td>\n",
       "      <td></td>\n",
       "    </tr>\n",
       "    <tr>\n",
       "      <th>3</th>\n",
       "      <td>Marsh Harbour</td>\n",
       "      <td>BS</td>\n",
       "      <td>69.93</td>\n",
       "      <td>26.5412</td>\n",
       "      <td>-77.0636</td>\n",
       "      <td></td>\n",
       "    </tr>\n",
       "    <tr>\n",
       "      <th>5</th>\n",
       "      <td>Banepa</td>\n",
       "      <td>NP</td>\n",
       "      <td>64.72</td>\n",
       "      <td>27.6298</td>\n",
       "      <td>85.5214</td>\n",
       "      <td></td>\n",
       "    </tr>\n",
       "    <tr>\n",
       "      <th>6</th>\n",
       "      <td>Saint-Francois</td>\n",
       "      <td>FR</td>\n",
       "      <td>53.42</td>\n",
       "      <td>46.4154</td>\n",
       "      <td>3.9054</td>\n",
       "      <td></td>\n",
       "    </tr>\n",
       "    <tr>\n",
       "      <th>8</th>\n",
       "      <td>Mahebourg</td>\n",
       "      <td>MU</td>\n",
       "      <td>77.29</td>\n",
       "      <td>-20.4081</td>\n",
       "      <td>57.7000</td>\n",
       "      <td></td>\n",
       "    </tr>\n",
       "    <tr>\n",
       "      <th>9</th>\n",
       "      <td>Kapaa</td>\n",
       "      <td>US</td>\n",
       "      <td>75.18</td>\n",
       "      <td>22.0752</td>\n",
       "      <td>-159.3190</td>\n",
       "      <td></td>\n",
       "    </tr>\n",
       "    <tr>\n",
       "      <th>20</th>\n",
       "      <td>Busselton</td>\n",
       "      <td>AU</td>\n",
       "      <td>53.55</td>\n",
       "      <td>-33.6500</td>\n",
       "      <td>115.3333</td>\n",
       "      <td></td>\n",
       "    </tr>\n",
       "    <tr>\n",
       "      <th>25</th>\n",
       "      <td>Singleton</td>\n",
       "      <td>AU</td>\n",
       "      <td>58.98</td>\n",
       "      <td>-32.5667</td>\n",
       "      <td>151.1833</td>\n",
       "      <td></td>\n",
       "    </tr>\n",
       "    <tr>\n",
       "      <th>26</th>\n",
       "      <td>Port Alfred</td>\n",
       "      <td>ZA</td>\n",
       "      <td>63.18</td>\n",
       "      <td>-33.5906</td>\n",
       "      <td>26.8910</td>\n",
       "      <td></td>\n",
       "    </tr>\n",
       "    <tr>\n",
       "      <th>27</th>\n",
       "      <td>Bredasdorp</td>\n",
       "      <td>ZA</td>\n",
       "      <td>65.30</td>\n",
       "      <td>-34.5322</td>\n",
       "      <td>20.0403</td>\n",
       "      <td></td>\n",
       "    </tr>\n",
       "  </tbody>\n",
       "</table>\n",
       "</div>"
      ],
      "text/plain": [
       "              City Country  Max Temp      Lat       Lng Hotel Name\n",
       "1            Vaini      TO     77.16 -21.2000 -175.2000           \n",
       "3    Marsh Harbour      BS     69.93  26.5412  -77.0636           \n",
       "5           Banepa      NP     64.72  27.6298   85.5214           \n",
       "6   Saint-Francois      FR     53.42  46.4154    3.9054           \n",
       "8        Mahebourg      MU     77.29 -20.4081   57.7000           \n",
       "9            Kapaa      US     75.18  22.0752 -159.3190           \n",
       "20       Busselton      AU     53.55 -33.6500  115.3333           \n",
       "25       Singleton      AU     58.98 -32.5667  151.1833           \n",
       "26     Port Alfred      ZA     63.18 -33.5906   26.8910           \n",
       "27      Bredasdorp      ZA     65.30 -34.5322   20.0403           "
      ]
     },
     "execution_count": 31,
     "metadata": {},
     "output_type": "execute_result"
    }
   ],
   "source": [
    "# Create DataFrame called hotel_df to store hotel names along with city, country, max temp, and coordinates.\n",
    "hotel_df = preferred_cities_df[[\"City\", \"Country\", \"Max Temp\", \"Lat\", \"Lng\"]].copy()\n",
    "hotel_df[\"Hotel Name\"] = \"\"\n",
    "hotel_df.head(10)"
   ]
  },
  {
   "cell_type": "code",
   "execution_count": 34,
   "id": "b46bcdaa",
   "metadata": {},
   "outputs": [
    {
     "name": "stdout",
     "output_type": "stream",
     "text": [
      "Hotel not found... skipping.\n",
      "Hotel not found... skipping.\n",
      "Hotel not found... skipping.\n",
      "Hotel not found... skipping.\n",
      "Hotel not found... skipping.\n",
      "Hotel not found... skipping.\n",
      "Hotel not found... skipping.\n",
      "Hotel not found... skipping.\n",
      "Hotel not found... skipping.\n",
      "Hotel not found... skipping.\n",
      "Hotel not found... skipping.\n",
      "Hotel not found... skipping.\n",
      "Hotel not found... skipping.\n",
      "Hotel not found... skipping.\n",
      "Hotel not found... skipping.\n",
      "Hotel not found... skipping.\n"
     ]
    }
   ],
   "source": [
    "# Set parameters to search for a hotel.\n",
    "params = {\n",
    "    \"radius\": 5000,\n",
    "    \"type\": \"lodging\",\n",
    "    \"key\": g_key\n",
    "}\n",
    "\n",
    "# Iterate through the DataFrame.\n",
    "for index, row in hotel_df.iterrows():\n",
    "    # Get the latitude and longitude.\n",
    "    lat = row[\"Lat\"]\n",
    "    lng = row[\"Lng\"]\n",
    "\n",
    "    # Add the latitude and longitude to location key for the params dictionary.\n",
    "    params[\"location\"] = f\"{lat},{lng}\"\n",
    "\n",
    "    # Use the search term: \"lodging\" and our latitude and longitude.\n",
    "    base_url = \"https://maps.googleapis.com/maps/api/place/nearbysearch/json\"\n",
    "    # Make request and get the JSON data from the search.\n",
    "    hotels = requests.get(base_url, params=params).json()\n",
    "    # Grab the first hotel from the results and store the name.\n",
    "    try:\n",
    "        hotel_df.loc[index, \"Hotel Name\"] = hotels[\"results\"][0][\"name\"]\n",
    "    except (IndexError):\n",
    "        print(\"Hotel not found... skipping.\")"
   ]
  },
  {
   "cell_type": "code",
   "execution_count": 35,
   "id": "35913505",
   "metadata": {},
   "outputs": [
    {
     "data": {
      "text/html": [
       "<div>\n",
       "<style scoped>\n",
       "    .dataframe tbody tr th:only-of-type {\n",
       "        vertical-align: middle;\n",
       "    }\n",
       "\n",
       "    .dataframe tbody tr th {\n",
       "        vertical-align: top;\n",
       "    }\n",
       "\n",
       "    .dataframe thead th {\n",
       "        text-align: right;\n",
       "    }\n",
       "</style>\n",
       "<table border=\"1\" class=\"dataframe\">\n",
       "  <thead>\n",
       "    <tr style=\"text-align: right;\">\n",
       "      <th></th>\n",
       "      <th>City</th>\n",
       "      <th>Country</th>\n",
       "      <th>Max Temp</th>\n",
       "      <th>Lat</th>\n",
       "      <th>Lng</th>\n",
       "      <th>Hotel Name</th>\n",
       "    </tr>\n",
       "  </thead>\n",
       "  <tbody>\n",
       "    <tr>\n",
       "      <th>1</th>\n",
       "      <td>Vaini</td>\n",
       "      <td>TO</td>\n",
       "      <td>77.16</td>\n",
       "      <td>-21.2000</td>\n",
       "      <td>-175.2000</td>\n",
       "      <td>Keleti Beach Resort</td>\n",
       "    </tr>\n",
       "    <tr>\n",
       "      <th>3</th>\n",
       "      <td>Marsh Harbour</td>\n",
       "      <td>BS</td>\n",
       "      <td>69.93</td>\n",
       "      <td>26.5412</td>\n",
       "      <td>-77.0636</td>\n",
       "      <td>Abaco Beach Resort</td>\n",
       "    </tr>\n",
       "    <tr>\n",
       "      <th>5</th>\n",
       "      <td>Banepa</td>\n",
       "      <td>NP</td>\n",
       "      <td>64.72</td>\n",
       "      <td>27.6298</td>\n",
       "      <td>85.5214</td>\n",
       "      <td>Dhulikhel Lodge Resort</td>\n",
       "    </tr>\n",
       "    <tr>\n",
       "      <th>6</th>\n",
       "      <td>Saint-Francois</td>\n",
       "      <td>FR</td>\n",
       "      <td>53.42</td>\n",
       "      <td>46.4154</td>\n",
       "      <td>3.9054</td>\n",
       "      <td>Manoir Du Bonheur</td>\n",
       "    </tr>\n",
       "    <tr>\n",
       "      <th>8</th>\n",
       "      <td>Mahebourg</td>\n",
       "      <td>MU</td>\n",
       "      <td>77.29</td>\n",
       "      <td>-20.4081</td>\n",
       "      <td>57.7000</td>\n",
       "      <td>Shandrani Beachcomber Resort &amp; Spa</td>\n",
       "    </tr>\n",
       "  </tbody>\n",
       "</table>\n",
       "</div>"
      ],
      "text/plain": [
       "             City Country  Max Temp      Lat       Lng  \\\n",
       "1           Vaini      TO     77.16 -21.2000 -175.2000   \n",
       "3   Marsh Harbour      BS     69.93  26.5412  -77.0636   \n",
       "5          Banepa      NP     64.72  27.6298   85.5214   \n",
       "6  Saint-Francois      FR     53.42  46.4154    3.9054   \n",
       "8       Mahebourg      MU     77.29 -20.4081   57.7000   \n",
       "\n",
       "                           Hotel Name  \n",
       "1                 Keleti Beach Resort  \n",
       "3                  Abaco Beach Resort  \n",
       "5              Dhulikhel Lodge Resort  \n",
       "6                   Manoir Du Bonheur  \n",
       "8  Shandrani Beachcomber Resort & Spa  "
      ]
     },
     "execution_count": 35,
     "metadata": {},
     "output_type": "execute_result"
    }
   ],
   "source": [
    "hotel_df.head()"
   ]
  },
  {
   "cell_type": "code",
   "execution_count": 38,
   "id": "2631f772",
   "metadata": {},
   "outputs": [
    {
     "data": {
      "application/vnd.jupyter.widget-view+json": {
       "model_id": "38045d3488024bbb9bf79e100b1ae539",
       "version_major": 2,
       "version_minor": 0
      },
      "text/plain": [
       "Figure(layout=FigureLayout(height='420px'))"
      ]
     },
     "metadata": {},
     "output_type": "display_data"
    }
   ],
   "source": [
    "# Add a heatmap of temperature for the vacation spots.\n",
    "locations = hotel_df[[\"Lat\", \"Lng\"]]\n",
    "max_temp = hotel_df[\"Max Temp\"]\n",
    "fig = gmaps.figure(center=(30.0, 31.0), zoom_level=1.5)\n",
    "marker_layer = gmaps.marker_layer(locations)\n",
    "heat_layer = gmaps.heatmap_layer(locations, weights=max_temp, dissipating=False,\n",
    "             max_intensity=300, point_radius=4)\n",
    "\n",
    "fig.add_layer(heat_layer)\n",
    "fig.add_layer(marker_layer)\n",
    "# Call the figure to plot the data.\n",
    "fig"
   ]
  },
  {
   "cell_type": "code",
   "execution_count": 39,
   "id": "2233b17d",
   "metadata": {},
   "outputs": [],
   "source": [
    "info_box_template = \"\"\"\n",
    "<dl>\n",
    "<dt>Hotel Name</dt><dd>{Hotel Name}</dd>\n",
    "<dt>City</dt><dd>{City}</dd>\n",
    "<dt>Country</dt><dd>{Country}</dd>\n",
    "<dt>Max Temp</dt><dd>{Max Temp} °F</dd>\n",
    "</dl>\n",
    "\"\"\"\n",
    "\n",
    "# Store the DataFrame Row.\n",
    "hotel_info = [info_box_template.format(**row) for index, row in hotel_df.iterrows()]"
   ]
  },
  {
   "cell_type": "code",
   "execution_count": 40,
   "id": "b24ffbfc",
   "metadata": {},
   "outputs": [
    {
     "data": {
      "application/vnd.jupyter.widget-view+json": {
       "model_id": "4428e91eae914af9a94a6b8dd5e62cdd",
       "version_major": 2,
       "version_minor": 0
      },
      "text/plain": [
       "Figure(layout=FigureLayout(height='420px'))"
      ]
     },
     "metadata": {},
     "output_type": "display_data"
    }
   ],
   "source": [
    "# Add a heatmap of temperature for the vacation spots and a pop-up marker for each city.\n",
    "locations = hotel_df[[\"Lat\", \"Lng\"]]\n",
    "max_temp = hotel_df[\"Max Temp\"]\n",
    "fig = gmaps.figure(center=(30.0, 31.0), zoom_level=1.5)\n",
    "heat_layer = gmaps.heatmap_layer(locations, weights=max_temp,dissipating=False,\n",
    "             max_intensity=300, point_radius=4)\n",
    "marker_layer = gmaps.marker_layer(locations, info_box_content=hotel_info)\n",
    "fig.add_layer(heat_layer)\n",
    "fig.add_layer(marker_layer)\n",
    "\n",
    "# Call the figure to plot the data.\n",
    "fig"
   ]
  },
  {
   "cell_type": "code",
   "execution_count": null,
   "id": "829589ea",
   "metadata": {},
   "outputs": [],
   "source": []
  }
 ],
 "metadata": {
  "kernelspec": {
   "display_name": "PythonData",
   "language": "python",
   "name": "pythondata"
  },
  "language_info": {
   "codemirror_mode": {
    "name": "ipython",
    "version": 3
   },
   "file_extension": ".py",
   "mimetype": "text/x-python",
   "name": "python",
   "nbconvert_exporter": "python",
   "pygments_lexer": "ipython3",
   "version": "3.7.11"
  }
 },
 "nbformat": 4,
 "nbformat_minor": 5
}
